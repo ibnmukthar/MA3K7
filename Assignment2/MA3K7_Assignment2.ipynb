{
 "cells": [
  {
   "cell_type": "markdown",
   "id": "4200fafd",
   "metadata": {},
   "source": [
    "# Strategy Simulation for Random Matrices\n",
    "Here we run a code where we initiailise a Matrix and then check both strategies work"
   ]
  },
  {
   "cell_type": "code",
   "execution_count": 26,
   "id": "4332290f",
   "metadata": {},
   "outputs": [
    {
     "name": "stdout",
     "output_type": "stream",
     "text": [
      "Simulation for n=3:\n",
      "[[0 0 0]\n",
      " [0 0 0]\n",
      " [1 1 1]]\n",
      "Determinant is zero: True\n",
      "\n",
      "Simulation for n=4:\n",
      "[[0 0 0 0]\n",
      " [0 0 0 0]\n",
      " [1 1 1 1]\n",
      " [1 1 1 1]]\n",
      "Determinant is zero: True\n"
     ]
    }
   ],
   "source": [
    "import numpy as np\n",
    "\n",
    "def simulate_game(n):\n",
    "    # Initialize an n x n matrix with -1 to represent an empty cell\n",
    "    matrix = np.full((n, n), -1)\n",
    "\n",
    "    # Function to check if placing '0' in (i, j) will make the determinant zero\n",
    "    def will_det_be_zero(i, j):\n",
    "        matrix_copy = np.where(matrix == -1, 0, matrix)  # Replace -1 with 0 for determinant calculation\n",
    "        matrix_copy[i, j] = 0\n",
    "        return np.isclose(np.linalg.det(matrix_copy), 0)\n",
    "\n",
    "    # Function to perform a move for player 1 (place a 1) or player 0 (place a 0)\n",
    "    def make_move(player, position):\n",
    "        matrix[position] = player\n",
    "\n",
    "    # Simulate the game\n",
    "    for move in range(n * n):\n",
    "        player = move % 2\n",
    "        empty_cells = np.argwhere(matrix == -1)\n",
    "        if empty_cells.size > 0:\n",
    "            if player == 1:\n",
    "                # Player 1 places a 1 in a random empty cell\n",
    "                random_cell = empty_cells[np.random.choice(empty_cells.shape[0])]\n",
    "                make_move(1, random_cell)\n",
    "            else:\n",
    "                # For n >= 4, apply the reflection strategy\n",
    "                if n >= 4:\n",
    "                    move_made = False\n",
    "                    for i in range(n):\n",
    "                        for j in range(n // 2):\n",
    "                            if matrix[i, j] == 1 and matrix[i, n - j - 1] == -1:\n",
    "                                make_move(0, (i, n - j - 1))\n",
    "                                move_made = True\n",
    "                                break\n",
    "                        if move_made:\n",
    "                            break\n",
    "                    if not move_made:\n",
    "                        # If no reflection move was made, place a 0 in a cell that will make det zero\n",
    "                        for cell in empty_cells:\n",
    "                            if will_det_be_zero(*cell):\n",
    "                                make_move(0, cell)\n",
    "                                break\n",
    "                else:\n",
    "                    # For n < 4, place a 0 in a cell that will make det zero\n",
    "                    for cell in empty_cells:\n",
    "                        if will_det_be_zero(*cell):\n",
    "                            make_move(0, cell)\n",
    "                            break\n",
    "\n",
    "    # Check if the final matrix has a determinant of zero\n",
    "    det = np.linalg.det(np.where(matrix == -1, 0, matrix)) if -1 not in matrix else None\n",
    "    return matrix, np.isclose(det, 0)\n",
    "\n",
    "# Simulate the game for n=3 and n=4\n",
    "results_n3 = simulate_game(3)\n",
    "results_n4 = simulate_game(4)\n",
    "\n",
    "print(\"Simulation for n=3:\")\n",
    "print(results_n3[0])\n",
    "print(\"Determinant is zero:\", results_n3[1])\n",
    "\n",
    "print(\"\\nSimulation for n=4:\")\n",
    "print(results_n4[0])\n",
    "print(\"Determinant is zero:\", results_n4[1])\n"
   ]
  }
 ],
 "metadata": {
  "hide_input": false,
  "kernelspec": {
   "display_name": "Python 3 (ipykernel)",
   "language": "python",
   "name": "python3"
  },
  "language_info": {
   "codemirror_mode": {
    "name": "ipython",
    "version": 3
   },
   "file_extension": ".py",
   "mimetype": "text/x-python",
   "name": "python",
   "nbconvert_exporter": "python",
   "pygments_lexer": "ipython3",
   "version": "3.9.7"
  },
  "toc": {
   "base_numbering": 1,
   "nav_menu": {},
   "number_sections": false,
   "sideBar": true,
   "skip_h1_title": false,
   "title_cell": "Table of Contents",
   "title_sidebar": "Contents",
   "toc_cell": false,
   "toc_position": {},
   "toc_section_display": true,
   "toc_window_display": false
  },
  "varInspector": {
   "cols": {
    "lenName": 16,
    "lenType": 16,
    "lenVar": 40
   },
   "kernels_config": {
    "python": {
     "delete_cmd_postfix": "",
     "delete_cmd_prefix": "del ",
     "library": "var_list.py",
     "varRefreshCmd": "print(var_dic_list())"
    },
    "r": {
     "delete_cmd_postfix": ") ",
     "delete_cmd_prefix": "rm(",
     "library": "var_list.r",
     "varRefreshCmd": "cat(var_dic_list()) "
    }
   },
   "types_to_exclude": [
    "module",
    "function",
    "builtin_function_or_method",
    "instance",
    "_Feature"
   ],
   "window_display": false
  }
 },
 "nbformat": 4,
 "nbformat_minor": 5
}
