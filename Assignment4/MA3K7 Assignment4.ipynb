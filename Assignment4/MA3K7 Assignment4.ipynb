{
 "cells": [
  {
   "cell_type": "markdown",
   "id": "6200af02",
   "metadata": {},
   "source": [
    "# Infinite Numbered Path Problem"
   ]
  },
  {
   "cell_type": "code",
   "execution_count": 3,
   "id": "fba23cd7",
   "metadata": {},
   "outputs": [],
   "source": [
    "import scipy.stats as stats\n"
   ]
  },
  {
   "cell_type": "code",
   "execution_count": 19,
   "id": "a2f3e150",
   "metadata": {},
   "outputs": [
    {
     "name": "stdout",
     "output_type": "stream",
     "text": [
      "The probability of reaching step 25 is approximately 0.3333\n"
     ]
    }
   ],
   "source": [
    "def probability_of_reaching_step(target_step):\n",
    "    # Initialize probabilities for steps 1 and 2\n",
    "    p_prev, p_curr = 0, 1/2\n",
    "    \n",
    "    # Calculate probabilities for steps 3 to target_step\n",
    "    for step in range(3, target_step + 1):\n",
    "        p_next = 1/2 * p_curr + 1/2 * p_prev\n",
    "        p_prev, p_curr = p_curr, p_next\n",
    "    \n",
    "    return p_curr\n",
    "\n",
    "# Calculate the probability of reaching or surpassing step 25\n",
    "target_step = 25\n",
    "probability = probability_of_reaching_step(target_step)\n",
    "print(f\"The probability of reaching step {target_step} is approximately {probability:.4f}\")\n"
   ]
  },
  {
   "cell_type": "markdown",
   "id": "390a0f94",
   "metadata": {},
   "source": [
    "We note that the above method yields an incorrect answer as it logically doesn't make sense against our ballpark figure."
   ]
  },
  {
   "cell_type": "code",
   "execution_count": 21,
   "id": "f6402727",
   "metadata": {},
   "outputs": [
    {
     "name": "stdout",
     "output_type": "stream",
     "text": [
      "The correct probability of reaching step 25 whilst starting from step 1 is approximately 0.3333\n"
     ]
    }
   ],
   "source": [
    "def probability_reach_step(current_step, remaining_tosses):\n",
    "    if current_step == 25:\n",
    "        return 1  # Successfully reached step 25\n",
    "    if current_step > 25 or remaining_tosses == 0:\n",
    "        return 0  # Either went past step 25 or ran out of tosses without reaching it\n",
    "    \n",
    "    # Probability of taking 1 step or 2 steps with the next toss\n",
    "    prob_with_1_step = probability_reach_step(current_step + 1, remaining_tosses - 1)\n",
    "    prob_with_2_steps = probability_reach_step(current_step + 2, remaining_tosses - 1)\n",
    "    \n",
    "    # Since each outcome has an equal chance of occurring, we average the probabilities\n",
    "    return 0.5 * (prob_with_1_step + prob_with_2_steps)\n",
    "\n",
    "probability_reach_step(1,25)\n",
    "\n",
    "print(f\"The correct probability of reaching step {25} whilst starting from step {1} is approximately {probability:.4f}\")\n"
   ]
  }
 ],
 "metadata": {
  "hide_input": false,
  "kernelspec": {
   "display_name": "Python 3 (ipykernel)",
   "language": "python",
   "name": "python3"
  },
  "language_info": {
   "codemirror_mode": {
    "name": "ipython",
    "version": 3
   },
   "file_extension": ".py",
   "mimetype": "text/x-python",
   "name": "python",
   "nbconvert_exporter": "python",
   "pygments_lexer": "ipython3",
   "version": "3.9.7"
  },
  "toc": {
   "base_numbering": 1,
   "nav_menu": {},
   "number_sections": false,
   "sideBar": true,
   "skip_h1_title": false,
   "title_cell": "Table of Contents",
   "title_sidebar": "Contents",
   "toc_cell": false,
   "toc_position": {},
   "toc_section_display": true,
   "toc_window_display": false
  },
  "varInspector": {
   "cols": {
    "lenName": 16,
    "lenType": 16,
    "lenVar": 40
   },
   "kernels_config": {
    "python": {
     "delete_cmd_postfix": "",
     "delete_cmd_prefix": "del ",
     "library": "var_list.py",
     "varRefreshCmd": "print(var_dic_list())"
    },
    "r": {
     "delete_cmd_postfix": ") ",
     "delete_cmd_prefix": "rm(",
     "library": "var_list.r",
     "varRefreshCmd": "cat(var_dic_list()) "
    }
   },
   "types_to_exclude": [
    "module",
    "function",
    "builtin_function_or_method",
    "instance",
    "_Feature"
   ],
   "window_display": false
  }
 },
 "nbformat": 4,
 "nbformat_minor": 5
}
