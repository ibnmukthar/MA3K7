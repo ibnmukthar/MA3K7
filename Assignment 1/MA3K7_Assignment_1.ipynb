{
 "cells": [
  {
   "cell_type": "markdown",
   "id": "edf2f308",
   "metadata": {},
   "source": [
    "# Bracelet Generator\n",
    "We attempt to create the bracelets which begin with different starting numbers and then enumerate them."
   ]
  },
  {
   "cell_type": "code",
   "execution_count": 3,
   "id": "7674730e",
   "metadata": {},
   "outputs": [
    {
     "name": "stdout",
     "output_type": "stream",
     "text": [
      "Bracelet starting with (0, 0): 0 -> 0\n",
      "Bracelet starting with (0, 1): 0 -> 1 -> 1 -> 2 -> 3 -> 5 -> 8 -> 3 -> 1 -> 4 -> 5 -> 9 -> 4 -> 3 -> 7\n",
      "Bracelet starting with (0, 2): 0 -> 2 -> 2 -> 4 -> 6\n",
      "Bracelet starting with (0, 3): 0 -> 3 -> 3 -> 6 -> 9 -> 5 -> 4 -> 9 -> 3 -> 2 -> 5 -> 7 -> 2 -> 9 -> 1\n",
      "Bracelet starting with (0, 4): 0 -> 4 -> 4 -> 8 -> 2\n",
      "Bracelet starting with (0, 5): 0 -> 5 -> 5\n",
      "Bracelet starting with (0, 6): 0 -> 6 -> 6 -> 2 -> 8\n",
      "Bracelet starting with (0, 7): 0 -> 7 -> 7 -> 4 -> 1 -> 5 -> 6 -> 1 -> 7 -> 8 -> 5 -> 3 -> 8 -> 1 -> 9\n",
      "Bracelet starting with (0, 8): 0 -> 8 -> 8 -> 6 -> 4\n",
      "Bracelet starting with (0, 9): 0 -> 9 -> 9 -> 8 -> 7 -> 5 -> 2 -> 7 -> 9 -> 6 -> 5 -> 1 -> 6 -> 7 -> 3\n",
      "Bracelet starting with (1, 0): 1 -> 0\n",
      "Bracelet starting with (1, 1): 1 -> 1 -> 2 -> 3 -> 5 -> 8 -> 3\n",
      "Bracelet starting with (1, 2): 1 -> 2 -> 3 -> 5 -> 8 -> 3\n",
      "Bracelet starting with (1, 3): 1 -> 3 -> 4 -> 7\n",
      "Bracelet starting with (1, 4): 1 -> 4 -> 5 -> 9 -> 4 -> 3 -> 7 -> 0 -> 7 -> 7 -> 4\n",
      "Bracelet starting with (1, 5): 1 -> 5 -> 6\n",
      "Bracelet starting with (1, 6): 1 -> 6 -> 7 -> 3 -> 0 -> 3 -> 3 -> 6 -> 9 -> 5 -> 4 -> 9 -> 3 -> 2 -> 5 -> 7 -> 2 -> 9\n",
      "Bracelet starting with (1, 7): 1 -> 7 -> 8 -> 5 -> 3 -> 8\n",
      "Bracelet starting with (1, 8): 1 -> 8 -> 9 -> 7 -> 6 -> 3 -> 9 -> 2\n",
      "Bracelet starting with (1, 9): 1 -> 9 -> 0 -> 9 -> 9 -> 8 -> 7 -> 5 -> 2 -> 7 -> 9 -> 6 -> 5\n",
      "Bracelet starting with (2, 0): 2 -> 0\n",
      "Bracelet starting with (2, 1): 2 -> 1 -> 3 -> 4 -> 7 -> 1 -> 8 -> 9 -> 7 -> 6 -> 3 -> 9\n",
      "Bracelet starting with (2, 2): 2 -> 2 -> 4 -> 6 -> 0 -> 6 -> 6\n",
      "Bracelet starting with (2, 3): 2 -> 3 -> 5 -> 8 -> 3 -> 1 -> 4 -> 5 -> 9 -> 4 -> 3 -> 7 -> 0 -> 7 -> 7 -> 4 -> 1 -> 5 -> 6 -> 1 -> 7 -> 8 -> 5 -> 3 -> 8 -> 1 -> 9 -> 0 -> 9 -> 9 -> 8 -> 7 -> 5\n",
      "Bracelet starting with (2, 4): 2 -> 4 -> 6 -> 0 -> 6 -> 6\n",
      "Bracelet starting with (2, 5): 2 -> 5 -> 7\n",
      "Bracelet starting with (2, 6): 2 -> 6 -> 8 -> 4\n",
      "Bracelet starting with (2, 7): 2 -> 7 -> 9 -> 6 -> 5 -> 1 -> 6 -> 7 -> 3 -> 0 -> 3 -> 3 -> 6 -> 9 -> 5 -> 4 -> 9 -> 3\n",
      "Bracelet starting with (2, 8): 2 -> 8 -> 0 -> 8 -> 8 -> 6 -> 4 -> 0 -> 4 -> 4 -> 8\n",
      "Bracelet starting with (2, 9): 2 -> 9 -> 1 -> 0 -> 1 -> 1\n",
      "Bracelet starting with (3, 0): 3 -> 0\n",
      "Bracelet starting with (3, 1): 3 -> 1 -> 4 -> 5 -> 9 -> 4\n",
      "Bracelet starting with (3, 2): 3 -> 2 -> 5 -> 7 -> 2 -> 9 -> 1 -> 0 -> 1 -> 1 -> 2\n",
      "Bracelet starting with (3, 3): 3 -> 3 -> 6 -> 9 -> 5 -> 4 -> 9\n",
      "Bracelet starting with (3, 4): 3 -> 4 -> 7 -> 1 -> 8 -> 9 -> 7 -> 6\n",
      "Bracelet starting with (3, 5): 3 -> 5 -> 8\n",
      "Bracelet starting with (3, 6): 3 -> 6 -> 9 -> 5 -> 4 -> 9\n",
      "Bracelet starting with (3, 7): 3 -> 7 -> 0 -> 7 -> 7 -> 4 -> 1 -> 5 -> 6 -> 1 -> 7 -> 8 -> 5\n",
      "Bracelet starting with (3, 8): 3 -> 8 -> 1 -> 9 -> 0 -> 9 -> 9 -> 8 -> 7 -> 5 -> 2 -> 7 -> 9 -> 6 -> 5 -> 1 -> 6 -> 7\n",
      "Bracelet starting with (3, 9): 3 -> 9 -> 2 -> 1\n",
      "Bracelet starting with (4, 0): 4 -> 0\n",
      "Bracelet starting with (4, 1): 4 -> 1 -> 5 -> 6 -> 1 -> 7 -> 8 -> 5 -> 3 -> 8 -> 1 -> 9 -> 0 -> 9 -> 9 -> 8 -> 7 -> 5 -> 2 -> 7 -> 9 -> 6 -> 5 -> 1 -> 6 -> 7 -> 3 -> 0 -> 3 -> 3 -> 6 -> 9 -> 5\n",
      "Bracelet starting with (4, 2): 4 -> 2 -> 6 -> 8\n",
      "Bracelet starting with (4, 3): 4 -> 3 -> 7 -> 0 -> 7 -> 7\n",
      "Bracelet starting with (4, 4): 4 -> 4 -> 8 -> 2 -> 0 -> 2 -> 2\n",
      "Bracelet starting with (4, 5): 4 -> 5 -> 9\n",
      "Bracelet starting with (4, 6): 4 -> 6 -> 0 -> 6 -> 6 -> 2 -> 8 -> 0 -> 8 -> 8 -> 6\n",
      "Bracelet starting with (4, 7): 4 -> 7 -> 1 -> 8 -> 9 -> 7 -> 6 -> 3 -> 9 -> 2 -> 1 -> 3\n",
      "Bracelet starting with (4, 8): 4 -> 8 -> 2 -> 0 -> 2 -> 2\n",
      "Bracelet starting with (4, 9): 4 -> 9 -> 3 -> 2 -> 5 -> 7 -> 2 -> 9 -> 1 -> 0 -> 1 -> 1 -> 2 -> 3 -> 5 -> 8 -> 3 -> 1\n",
      "Bracelet starting with (5, 0): 5 -> 0\n",
      "Bracelet starting with (5, 1): 5 -> 1 -> 6 -> 7 -> 3 -> 0 -> 3 -> 3 -> 6 -> 9\n",
      "Bracelet starting with (5, 2): 5 -> 2 -> 7 -> 9 -> 6\n",
      "Bracelet starting with (5, 3): 5 -> 3 -> 8 -> 1 -> 9 -> 0 -> 9 -> 9 -> 8 -> 7\n",
      "Bracelet starting with (5, 4): 5 -> 4 -> 9 -> 3 -> 2\n",
      "Bracelet starting with (5, 5): 5 -> 5 -> 0\n",
      "Bracelet starting with (5, 6): 5 -> 6 -> 1 -> 7 -> 8\n",
      "Bracelet starting with (5, 7): 5 -> 7 -> 2 -> 9 -> 1 -> 0 -> 1 -> 1 -> 2 -> 3\n",
      "Bracelet starting with (5, 8): 5 -> 8 -> 3 -> 1 -> 4\n",
      "Bracelet starting with (5, 9): 5 -> 9 -> 4 -> 3 -> 7 -> 0 -> 7 -> 7 -> 4 -> 1\n",
      "Bracelet starting with (6, 0): 6 -> 0\n",
      "Bracelet starting with (6, 1): 6 -> 1 -> 7 -> 8 -> 5 -> 3 -> 8 -> 1 -> 9 -> 0 -> 9 -> 9 -> 8 -> 7 -> 5 -> 2 -> 7 -> 9\n",
      "Bracelet starting with (6, 2): 6 -> 2 -> 8 -> 0 -> 8 -> 8\n",
      "Bracelet starting with (6, 3): 6 -> 3 -> 9 -> 2 -> 1 -> 3 -> 4 -> 7 -> 1 -> 8 -> 9 -> 7\n",
      "Bracelet starting with (6, 4): 6 -> 4 -> 0 -> 4 -> 4 -> 8 -> 2 -> 0 -> 2 -> 2 -> 4\n",
      "Bracelet starting with (6, 5): 6 -> 5 -> 1\n",
      "Bracelet starting with (6, 6): 6 -> 6 -> 2 -> 8 -> 0 -> 8 -> 8\n",
      "Bracelet starting with (6, 7): 6 -> 7 -> 3 -> 0 -> 3 -> 3\n",
      "Bracelet starting with (6, 8): 6 -> 8 -> 4 -> 2\n",
      "Bracelet starting with (6, 9): 6 -> 9 -> 5 -> 4 -> 9 -> 3 -> 2 -> 5 -> 7 -> 2 -> 9 -> 1 -> 0 -> 1 -> 1 -> 2 -> 3 -> 5 -> 8 -> 3 -> 1 -> 4 -> 5 -> 9 -> 4 -> 3 -> 7 -> 0 -> 7 -> 7 -> 4 -> 1 -> 5\n",
      "Bracelet starting with (7, 0): 7 -> 0\n",
      "Bracelet starting with (7, 1): 7 -> 1 -> 8 -> 9\n",
      "Bracelet starting with (7, 2): 7 -> 2 -> 9 -> 1 -> 0 -> 1 -> 1 -> 2 -> 3 -> 5 -> 8 -> 3 -> 1 -> 4 -> 5 -> 9 -> 4 -> 3\n",
      "Bracelet starting with (7, 3): 7 -> 3 -> 0 -> 3 -> 3 -> 6 -> 9 -> 5 -> 4 -> 9 -> 3 -> 2 -> 5\n",
      "Bracelet starting with (7, 4): 7 -> 4 -> 1 -> 5 -> 6 -> 1\n",
      "Bracelet starting with (7, 5): 7 -> 5 -> 2\n",
      "Bracelet starting with (7, 6): 7 -> 6 -> 3 -> 9 -> 2 -> 1 -> 3 -> 4\n",
      "Bracelet starting with (7, 7): 7 -> 7 -> 4 -> 1 -> 5 -> 6 -> 1\n",
      "Bracelet starting with (7, 8): 7 -> 8 -> 5 -> 3 -> 8 -> 1 -> 9 -> 0 -> 9 -> 9 -> 8\n",
      "Bracelet starting with (7, 9): 7 -> 9 -> 6 -> 5 -> 1 -> 6\n",
      "Bracelet starting with (8, 0): 8 -> 0\n",
      "Bracelet starting with (8, 1): 8 -> 1 -> 9 -> 0 -> 9 -> 9\n",
      "Bracelet starting with (8, 2): 8 -> 2 -> 0 -> 2 -> 2 -> 4 -> 6 -> 0 -> 6 -> 6 -> 2\n",
      "Bracelet starting with (8, 3): 8 -> 3 -> 1 -> 4 -> 5 -> 9 -> 4 -> 3 -> 7 -> 0 -> 7 -> 7 -> 4 -> 1 -> 5 -> 6 -> 1 -> 7\n",
      "Bracelet starting with (8, 4): 8 -> 4 -> 2 -> 6\n",
      "Bracelet starting with (8, 5): 8 -> 5 -> 3\n",
      "Bracelet starting with (8, 6): 8 -> 6 -> 4 -> 0 -> 4 -> 4\n",
      "Bracelet starting with (8, 7): 8 -> 7 -> 5 -> 2 -> 7 -> 9 -> 6 -> 5 -> 1 -> 6 -> 7 -> 3 -> 0 -> 3 -> 3 -> 6 -> 9 -> 5 -> 4 -> 9 -> 3 -> 2 -> 5 -> 7 -> 2 -> 9 -> 1 -> 0 -> 1 -> 1 -> 2 -> 3 -> 5\n",
      "Bracelet starting with (8, 8): 8 -> 8 -> 6 -> 4 -> 0 -> 4 -> 4\n",
      "Bracelet starting with (8, 9): 8 -> 9 -> 7 -> 6 -> 3 -> 9 -> 2 -> 1 -> 3 -> 4 -> 7 -> 1\n",
      "Bracelet starting with (9, 0): 9 -> 0\n",
      "Bracelet starting with (9, 1): 9 -> 1 -> 0 -> 1 -> 1 -> 2 -> 3 -> 5 -> 8 -> 3 -> 1 -> 4 -> 5\n",
      "Bracelet starting with (9, 2): 9 -> 2 -> 1 -> 3 -> 4 -> 7 -> 1 -> 8\n",
      "Bracelet starting with (9, 3): 9 -> 3 -> 2 -> 5 -> 7 -> 2\n",
      "Bracelet starting with (9, 4): 9 -> 4 -> 3 -> 7 -> 0 -> 7 -> 7 -> 4 -> 1 -> 5 -> 6 -> 1 -> 7 -> 8 -> 5 -> 3 -> 8 -> 1\n",
      "Bracelet starting with (9, 5): 9 -> 5 -> 4\n",
      "Bracelet starting with (9, 6): 9 -> 6 -> 5 -> 1 -> 6 -> 7 -> 3 -> 0 -> 3 -> 3 -> 6\n",
      "Bracelet starting with (9, 7): 9 -> 7 -> 6 -> 3\n",
      "Bracelet starting with (9, 8): 9 -> 8 -> 7 -> 5 -> 2 -> 7\n",
      "Bracelet starting with (9, 9): 9 -> 9 -> 8 -> 7 -> 5 -> 2 -> 7\n"
     ]
    }
   ],
   "source": [
    "def braceletgen(start1, start2):\n",
    "    sequence = [start1, start2]\n",
    "    while True:\n",
    "        next_num = (sequence[-1] + sequence[-2]) % 10\n",
    "        if next_num in sequence and sequence[-1] == sequence[sequence.index(next_num)-1]:\n",
    "            break\n",
    "        sequence.append(next_num)\n",
    "    return sequence\n",
    "\"\"\"\n",
    "We generates the 'bracelet' sequence using the rule that each number\n",
    "is the sum of the two preceding numbers mod 10.\n",
    "\n",
    "Parameters:\n",
    "start1 (int): The first starting number of the sequence.\n",
    "start2 (int): The second starting number of the sequence.\n",
    "\n",
    "Returns:\n",
    "list: The generated 'bracelet' sequence.\n",
    "\"\"\"\n",
    "    \n",
    "\n",
    "unique_bracelets = set()\n",
    "for i in range(10):\n",
    "    for j in range(10):\n",
    "        bracelet = braceletgen(i, j)\n",
    "        unique_bracelets.add(tuple(bracelet))\n",
    "\n",
    "\n",
    "# Prepare a formatted string for output\n",
    "bracelets_str = \"\\n\".join(\n",
    "    [f\"Bracelet starting with ({b[0]}, {b[1]}): \" + \" -> \".join(map(str, b)) \n",
    "     for b in sorted(unique_bracelets)]\n",
    ")\n",
    "\n",
    "#Print the unique bracelets\n",
    "print(bracelets_str)\n"
   ]
  },
  {
   "cell_type": "markdown",
   "id": "6de40e77",
   "metadata": {},
   "source": [
    "We then enumerate all the unique bracelets"
   ]
  },
  {
   "cell_type": "code",
   "execution_count": 10,
   "id": "cfbb87e0",
   "metadata": {},
   "outputs": [
    {
     "name": "stdout",
     "output_type": "stream",
     "text": [
      "Total number of unique bracelets: 100\n",
      "\n"
     ]
    }
   ],
   "source": [
    "# Display the unique bracelets and their count in a formatted way\n",
    "num_unique_bracelets = len(unique_bracelets)\n",
    "\n",
    "print(f\"Total number of unique bracelets: {num_unique_bracelets}\\n\")"
   ]
  }
 ],
 "metadata": {
  "hide_input": false,
  "kernelspec": {
   "display_name": "Python 3 (ipykernel)",
   "language": "python",
   "name": "python3"
  },
  "language_info": {
   "codemirror_mode": {
    "name": "ipython",
    "version": 3
   },
   "file_extension": ".py",
   "mimetype": "text/x-python",
   "name": "python",
   "nbconvert_exporter": "python",
   "pygments_lexer": "ipython3",
   "version": "3.9.7"
  },
  "toc": {
   "base_numbering": 1,
   "nav_menu": {},
   "number_sections": false,
   "sideBar": true,
   "skip_h1_title": false,
   "title_cell": "Table of Contents",
   "title_sidebar": "Contents",
   "toc_cell": false,
   "toc_position": {},
   "toc_section_display": true,
   "toc_window_display": false
  },
  "varInspector": {
   "cols": {
    "lenName": 16,
    "lenType": 16,
    "lenVar": 40
   },
   "kernels_config": {
    "python": {
     "delete_cmd_postfix": "",
     "delete_cmd_prefix": "del ",
     "library": "var_list.py",
     "varRefreshCmd": "print(var_dic_list())"
    },
    "r": {
     "delete_cmd_postfix": ") ",
     "delete_cmd_prefix": "rm(",
     "library": "var_list.r",
     "varRefreshCmd": "cat(var_dic_list()) "
    }
   },
   "types_to_exclude": [
    "module",
    "function",
    "builtin_function_or_method",
    "instance",
    "_Feature"
   ],
   "window_display": false
  }
 },
 "nbformat": 4,
 "nbformat_minor": 5
}
